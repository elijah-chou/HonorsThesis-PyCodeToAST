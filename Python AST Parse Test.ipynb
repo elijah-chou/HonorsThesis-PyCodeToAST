{
 "cells": [
  {
   "cell_type": "code",
   "execution_count": 17,
   "id": "185af363",
   "metadata": {},
   "outputs": [
    {
     "name": "stdout",
     "output_type": "stream",
     "text": [
      "63\n"
     ]
    }
   ],
   "source": [
    "import pandas as pd\n",
    "import numpy as np\n",
    "import ast\n",
    "\n",
    "\n",
    "with open(\"C:/Users/Elijah/Desktop/Python Sample Code.py\", \"r\") as source:\n",
    "    tmp = ast.parse(source.read())\n",
    "print(len(tmp.body))"
   ]
  }
 ],
 "metadata": {
  "kernelspec": {
   "display_name": "Python 3",
   "language": "python",
   "name": "python3"
  },
  "language_info": {
   "codemirror_mode": {
    "name": "ipython",
    "version": 3
   },
   "file_extension": ".py",
   "mimetype": "text/x-python",
   "name": "python",
   "nbconvert_exporter": "python",
   "pygments_lexer": "ipython3",
   "version": "3.8.8"
  }
 },
 "nbformat": 4,
 "nbformat_minor": 5
}
