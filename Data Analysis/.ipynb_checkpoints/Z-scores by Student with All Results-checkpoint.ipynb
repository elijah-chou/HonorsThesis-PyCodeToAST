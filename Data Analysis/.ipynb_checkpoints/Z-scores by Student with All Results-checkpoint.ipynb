{
 "cells": [
  {
   "cell_type": "code",
   "execution_count": 2,
   "id": "1ea5570d",
   "metadata": {},
   "outputs": [],
   "source": [
    "import pandas as pd\n",
    "import numpy as np\n",
    "import matplotlib.pyplot as plt\n",
    "from scipy.stats import pearsonr\n",
    "import os\n",
    "%matplotlib inline"
   ]
  },
  {
   "cell_type": "code",
   "execution_count": 3,
   "id": "436718aa",
   "metadata": {},
   "outputs": [],
   "source": [
    "os.chdir(\"C:/Users/Elijah/Downloads/code-answers-scores-python/Results\")\n",
    "allData = pd.DataFrame()\n",
    "for filename in os.listdir(os.getcwd()):\n",
    "    file = pd.read_csv(filename)\n",
    "    allData = pd.concat([allData, file])"
   ]
  },
  {
   "cell_type": "code",
   "execution_count": 4,
   "id": "d05ea466",
   "metadata": {},
   "outputs": [
    {
     "data": {
      "text/html": [
       "<div>\n",
       "<style scoped>\n",
       "    .dataframe tbody tr th:only-of-type {\n",
       "        vertical-align: middle;\n",
       "    }\n",
       "\n",
       "    .dataframe tbody tr th {\n",
       "        vertical-align: top;\n",
       "    }\n",
       "\n",
       "    .dataframe thead th {\n",
       "        text-align: right;\n",
       "    }\n",
       "</style>\n",
       "<table border=\"1\" class=\"dataframe\">\n",
       "  <thead>\n",
       "    <tr style=\"text-align: right;\">\n",
       "      <th></th>\n",
       "      <th>Unnamed: 0</th>\n",
       "      <th>Year</th>\n",
       "      <th>Semester</th>\n",
       "      <th>Quiz/Exam</th>\n",
       "      <th>Student ID</th>\n",
       "      <th>Coding Problem</th>\n",
       "      <th>Earned Score</th>\n",
       "      <th>Maximum Score</th>\n",
       "      <th>Distance</th>\n",
       "      <th>Distance Z-score</th>\n",
       "    </tr>\n",
       "  </thead>\n",
       "  <tbody>\n",
       "    <tr>\n",
       "      <th>0</th>\n",
       "      <td>0</td>\n",
       "      <td>2013</td>\n",
       "      <td>spring</td>\n",
       "      <td>quiz4</td>\n",
       "      <td>s111f453</td>\n",
       "      <td>BodyType</td>\n",
       "      <td>4</td>\n",
       "      <td>5</td>\n",
       "      <td>24.862069</td>\n",
       "      <td>2.369913e+00</td>\n",
       "    </tr>\n",
       "    <tr>\n",
       "      <th>1</th>\n",
       "      <td>1</td>\n",
       "      <td>2013</td>\n",
       "      <td>spring</td>\n",
       "      <td>quiz4</td>\n",
       "      <td>s18f746e0</td>\n",
       "      <td>BodyType</td>\n",
       "      <td>5</td>\n",
       "      <td>5</td>\n",
       "      <td>12.137931</td>\n",
       "      <td>-1.075291e+00</td>\n",
       "    </tr>\n",
       "    <tr>\n",
       "      <th>2</th>\n",
       "      <td>2</td>\n",
       "      <td>2013</td>\n",
       "      <td>spring</td>\n",
       "      <td>quiz4</td>\n",
       "      <td>s23f81012</td>\n",
       "      <td>BodyType</td>\n",
       "      <td>5</td>\n",
       "      <td>5</td>\n",
       "      <td>21.155172</td>\n",
       "      <td>1.366229e+00</td>\n",
       "    </tr>\n",
       "    <tr>\n",
       "      <th>3</th>\n",
       "      <td>3</td>\n",
       "      <td>2013</td>\n",
       "      <td>spring</td>\n",
       "      <td>quiz4</td>\n",
       "      <td>s27774cef</td>\n",
       "      <td>BodyType</td>\n",
       "      <td>5</td>\n",
       "      <td>5</td>\n",
       "      <td>16.810345</td>\n",
       "      <td>1.898177e-01</td>\n",
       "    </tr>\n",
       "    <tr>\n",
       "      <th>4</th>\n",
       "      <td>4</td>\n",
       "      <td>2013</td>\n",
       "      <td>spring</td>\n",
       "      <td>quiz4</td>\n",
       "      <td>s29d1098c</td>\n",
       "      <td>BodyType</td>\n",
       "      <td>4</td>\n",
       "      <td>5</td>\n",
       "      <td>19.344828</td>\n",
       "      <td>8.760574e-01</td>\n",
       "    </tr>\n",
       "    <tr>\n",
       "      <th>...</th>\n",
       "      <td>...</td>\n",
       "      <td>...</td>\n",
       "      <td>...</td>\n",
       "      <td>...</td>\n",
       "      <td>...</td>\n",
       "      <td>...</td>\n",
       "      <td>...</td>\n",
       "      <td>...</td>\n",
       "      <td>...</td>\n",
       "      <td>...</td>\n",
       "    </tr>\n",
       "    <tr>\n",
       "      <th>1</th>\n",
       "      <td>1</td>\n",
       "      <td>2013</td>\n",
       "      <td>spring</td>\n",
       "      <td>quiz9w</td>\n",
       "      <td>s564281ce</td>\n",
       "      <td>Younger</td>\n",
       "      <td>1</td>\n",
       "      <td>5</td>\n",
       "      <td>21.000000</td>\n",
       "      <td>2.468070e-01</td>\n",
       "    </tr>\n",
       "    <tr>\n",
       "      <th>2</th>\n",
       "      <td>2</td>\n",
       "      <td>2013</td>\n",
       "      <td>spring</td>\n",
       "      <td>quiz9w</td>\n",
       "      <td>s70c07b9e</td>\n",
       "      <td>Younger</td>\n",
       "      <td>1</td>\n",
       "      <td>5</td>\n",
       "      <td>20.800000</td>\n",
       "      <td>1.234035e-01</td>\n",
       "    </tr>\n",
       "    <tr>\n",
       "      <th>3</th>\n",
       "      <td>3</td>\n",
       "      <td>2013</td>\n",
       "      <td>spring</td>\n",
       "      <td>quiz9w</td>\n",
       "      <td>sc2ea6ca8</td>\n",
       "      <td>Younger</td>\n",
       "      <td>0</td>\n",
       "      <td>5</td>\n",
       "      <td>23.600000</td>\n",
       "      <td>1.851053e+00</td>\n",
       "    </tr>\n",
       "    <tr>\n",
       "      <th>4</th>\n",
       "      <td>4</td>\n",
       "      <td>2013</td>\n",
       "      <td>spring</td>\n",
       "      <td>quiz9w</td>\n",
       "      <td>sc6713607</td>\n",
       "      <td>Younger</td>\n",
       "      <td>5</td>\n",
       "      <td>5</td>\n",
       "      <td>19.000000</td>\n",
       "      <td>-9.872281e-01</td>\n",
       "    </tr>\n",
       "    <tr>\n",
       "      <th>5</th>\n",
       "      <td>5</td>\n",
       "      <td>2013</td>\n",
       "      <td>spring</td>\n",
       "      <td>quiz9w</td>\n",
       "      <td>sfb7d4ca7</td>\n",
       "      <td>Younger</td>\n",
       "      <td>2</td>\n",
       "      <td>5</td>\n",
       "      <td>20.600000</td>\n",
       "      <td>2.192087e-15</td>\n",
       "    </tr>\n",
       "  </tbody>\n",
       "</table>\n",
       "<p>1724 rows × 10 columns</p>\n",
       "</div>"
      ],
      "text/plain": [
       "    Unnamed: 0  Year Semester Quiz/Exam Student ID Coding Problem  \\\n",
       "0            0  2013   spring     quiz4   s111f453       BodyType   \n",
       "1            1  2013   spring     quiz4  s18f746e0       BodyType   \n",
       "2            2  2013   spring     quiz4  s23f81012       BodyType   \n",
       "3            3  2013   spring     quiz4  s27774cef       BodyType   \n",
       "4            4  2013   spring     quiz4  s29d1098c       BodyType   \n",
       "..         ...   ...      ...       ...        ...            ...   \n",
       "1            1  2013   spring    quiz9w  s564281ce        Younger   \n",
       "2            2  2013   spring    quiz9w  s70c07b9e        Younger   \n",
       "3            3  2013   spring    quiz9w  sc2ea6ca8        Younger   \n",
       "4            4  2013   spring    quiz9w  sc6713607        Younger   \n",
       "5            5  2013   spring    quiz9w  sfb7d4ca7        Younger   \n",
       "\n",
       "    Earned Score  Maximum Score   Distance  Distance Z-score  \n",
       "0              4              5  24.862069      2.369913e+00  \n",
       "1              5              5  12.137931     -1.075291e+00  \n",
       "2              5              5  21.155172      1.366229e+00  \n",
       "3              5              5  16.810345      1.898177e-01  \n",
       "4              4              5  19.344828      8.760574e-01  \n",
       "..           ...            ...        ...               ...  \n",
       "1              1              5  21.000000      2.468070e-01  \n",
       "2              1              5  20.800000      1.234035e-01  \n",
       "3              0              5  23.600000      1.851053e+00  \n",
       "4              5              5  19.000000     -9.872281e-01  \n",
       "5              2              5  20.600000      2.192087e-15  \n",
       "\n",
       "[1724 rows x 10 columns]"
      ]
     },
     "execution_count": 4,
     "metadata": {},
     "output_type": "execute_result"
    }
   ],
   "source": [
    "allData"
   ]
  },
  {
   "cell_type": "code",
   "execution_count": 5,
   "id": "f1fed51c",
   "metadata": {},
   "outputs": [],
   "source": [
    "allData2 = allData.drop(allData.columns[0], axis=1)"
   ]
  },
  {
   "cell_type": "code",
   "execution_count": 6,
   "id": "e9dcd38d",
   "metadata": {
    "scrolled": false
   },
   "outputs": [
    {
     "data": {
      "text/plain": [
       "Year                  int64\n",
       "Semester             object\n",
       "Quiz/Exam            object\n",
       "Student ID           object\n",
       "Coding Problem       object\n",
       "Earned Score          int64\n",
       "Maximum Score         int64\n",
       "Distance            float64\n",
       "Distance Z-score    float64\n",
       "dtype: object"
      ]
     },
     "execution_count": 6,
     "metadata": {},
     "output_type": "execute_result"
    }
   ],
   "source": [
    "allData2.dtypes"
   ]
  },
  {
   "cell_type": "code",
   "execution_count": 7,
   "id": "4ac2beb1",
   "metadata": {},
   "outputs": [],
   "source": [
    "# This line of code is only to export all data we have \n",
    "# allData2.to_csv(\"allStudentProgramsDataWith0Score.csv\", index=False)"
   ]
  },
  {
   "cell_type": "code",
   "execution_count": 8,
   "id": "8f1b88a8",
   "metadata": {},
   "outputs": [],
   "source": [
    "students_mean = allData2.groupby(\"Student ID\").mean()"
   ]
  },
  {
   "cell_type": "code",
   "execution_count": 9,
   "id": "82c52276",
   "metadata": {},
   "outputs": [],
   "source": [
    "zscore = students_mean.loc[:, ['Distance Z-score']]"
   ]
  },
  {
   "cell_type": "code",
   "execution_count": 10,
   "id": "48f16fc1",
   "metadata": {},
   "outputs": [],
   "source": [
    "students_sum = allData2.groupby(\"Student ID\").sum()"
   ]
  },
  {
   "cell_type": "code",
   "execution_count": 11,
   "id": "39d0f8bf",
   "metadata": {},
   "outputs": [],
   "source": [
    "grades = students_sum.loc[:, ['Earned Score', 'Maximum Score']]"
   ]
  },
  {
   "cell_type": "code",
   "execution_count": 12,
   "id": "dc033f95",
   "metadata": {},
   "outputs": [],
   "source": [
    "students = zscore.join(grades)"
   ]
  },
  {
   "cell_type": "code",
   "execution_count": 13,
   "id": "843b0344",
   "metadata": {
    "scrolled": false
   },
   "outputs": [],
   "source": [
    "students[\"Overall Percent\"] = students['Earned Score'] / students['Maximum Score']"
   ]
  },
  {
   "cell_type": "code",
   "execution_count": 14,
   "id": "16a70ae1",
   "metadata": {
    "scrolled": true
   },
   "outputs": [
    {
     "data": {
      "text/html": [
       "<div>\n",
       "<style scoped>\n",
       "    .dataframe tbody tr th:only-of-type {\n",
       "        vertical-align: middle;\n",
       "    }\n",
       "\n",
       "    .dataframe tbody tr th {\n",
       "        vertical-align: top;\n",
       "    }\n",
       "\n",
       "    .dataframe thead th {\n",
       "        text-align: right;\n",
       "    }\n",
       "</style>\n",
       "<table border=\"1\" class=\"dataframe\">\n",
       "  <thead>\n",
       "    <tr style=\"text-align: right;\">\n",
       "      <th></th>\n",
       "      <th>Distance Z-score</th>\n",
       "      <th>Earned Score</th>\n",
       "      <th>Maximum Score</th>\n",
       "      <th>Overall Percent</th>\n",
       "    </tr>\n",
       "    <tr>\n",
       "      <th>Student ID</th>\n",
       "      <th></th>\n",
       "      <th></th>\n",
       "      <th></th>\n",
       "      <th></th>\n",
       "    </tr>\n",
       "  </thead>\n",
       "  <tbody>\n",
       "    <tr>\n",
       "      <th>s111f453</th>\n",
       "      <td>0.279357</td>\n",
       "      <td>71</td>\n",
       "      <td>88</td>\n",
       "      <td>0.806818</td>\n",
       "    </tr>\n",
       "    <tr>\n",
       "      <th>s185bfebd</th>\n",
       "      <td>0.089652</td>\n",
       "      <td>63</td>\n",
       "      <td>105</td>\n",
       "      <td>0.600000</td>\n",
       "    </tr>\n",
       "    <tr>\n",
       "      <th>s189f9c70</th>\n",
       "      <td>0.018496</td>\n",
       "      <td>36</td>\n",
       "      <td>54</td>\n",
       "      <td>0.666667</td>\n",
       "    </tr>\n",
       "    <tr>\n",
       "      <th>s18f746e0</th>\n",
       "      <td>-0.444384</td>\n",
       "      <td>79</td>\n",
       "      <td>95</td>\n",
       "      <td>0.831579</td>\n",
       "    </tr>\n",
       "    <tr>\n",
       "      <th>s1a555e8d</th>\n",
       "      <td>-0.217776</td>\n",
       "      <td>68</td>\n",
       "      <td>113</td>\n",
       "      <td>0.601770</td>\n",
       "    </tr>\n",
       "    <tr>\n",
       "      <th>...</th>\n",
       "      <td>...</td>\n",
       "      <td>...</td>\n",
       "      <td>...</td>\n",
       "      <td>...</td>\n",
       "    </tr>\n",
       "    <tr>\n",
       "      <th>sfbb08d7</th>\n",
       "      <td>-0.026357</td>\n",
       "      <td>13</td>\n",
       "      <td>14</td>\n",
       "      <td>0.928571</td>\n",
       "    </tr>\n",
       "    <tr>\n",
       "      <th>sfc3bcc7d</th>\n",
       "      <td>0.133080</td>\n",
       "      <td>110</td>\n",
       "      <td>140</td>\n",
       "      <td>0.785714</td>\n",
       "    </tr>\n",
       "    <tr>\n",
       "      <th>sfe2341ab</th>\n",
       "      <td>-0.508778</td>\n",
       "      <td>80</td>\n",
       "      <td>99</td>\n",
       "      <td>0.808081</td>\n",
       "    </tr>\n",
       "    <tr>\n",
       "      <th>sfed34002</th>\n",
       "      <td>-0.230070</td>\n",
       "      <td>100</td>\n",
       "      <td>105</td>\n",
       "      <td>0.952381</td>\n",
       "    </tr>\n",
       "    <tr>\n",
       "      <th>sfee6ffa8</th>\n",
       "      <td>-0.264207</td>\n",
       "      <td>77</td>\n",
       "      <td>133</td>\n",
       "      <td>0.578947</td>\n",
       "    </tr>\n",
       "  </tbody>\n",
       "</table>\n",
       "<p>160 rows × 4 columns</p>\n",
       "</div>"
      ],
      "text/plain": [
       "            Distance Z-score  Earned Score  Maximum Score  Overall Percent\n",
       "Student ID                                                                \n",
       "s111f453            0.279357            71             88         0.806818\n",
       "s185bfebd           0.089652            63            105         0.600000\n",
       "s189f9c70           0.018496            36             54         0.666667\n",
       "s18f746e0          -0.444384            79             95         0.831579\n",
       "s1a555e8d          -0.217776            68            113         0.601770\n",
       "...                      ...           ...            ...              ...\n",
       "sfbb08d7           -0.026357            13             14         0.928571\n",
       "sfc3bcc7d           0.133080           110            140         0.785714\n",
       "sfe2341ab          -0.508778            80             99         0.808081\n",
       "sfed34002          -0.230070           100            105         0.952381\n",
       "sfee6ffa8          -0.264207            77            133         0.578947\n",
       "\n",
       "[160 rows x 4 columns]"
      ]
     },
     "execution_count": 14,
     "metadata": {},
     "output_type": "execute_result"
    }
   ],
   "source": [
    "students"
   ]
  },
  {
   "cell_type": "code",
   "execution_count": 15,
   "id": "fc3e8447",
   "metadata": {},
   "outputs": [],
   "source": [
    "# students.to_csv(\"allStudentDataIncluding0Score.csv\", index=False)"
   ]
  },
  {
   "cell_type": "code",
   "execution_count": 16,
   "id": "e93b6bd9",
   "metadata": {},
   "outputs": [
    {
     "data": {
      "text/plain": [
       "-0.4309819139346733"
      ]
     },
     "execution_count": 16,
     "metadata": {},
     "output_type": "execute_result"
    }
   ],
   "source": [
    "students['Distance Z-score'].corr(students['Overall Percent'],method='pearson')"
   ]
  },
  {
   "cell_type": "code",
   "execution_count": 17,
   "id": "ef6149a2",
   "metadata": {
    "scrolled": true
   },
   "outputs": [
    {
     "data": {
      "text/plain": [
       "(-0.43098191393467344, 1.2774294515383252e-08)"
      ]
     },
     "execution_count": 17,
     "metadata": {},
     "output_type": "execute_result"
    }
   ],
   "source": [
    "pearsonr(students['Distance Z-score'], students['Overall Percent'])"
   ]
  },
  {
   "cell_type": "code",
   "execution_count": 18,
   "id": "9f6dad50",
   "metadata": {
    "scrolled": true
   },
   "outputs": [
    {
     "data": {
      "image/png": "[encoded data removed]",
      "text/plain": [
       "<Figure size 432x288 with 1 Axes>"
      ]
     },
     "metadata": {
      "needs_background": "light"
     },
     "output_type": "display_data"
    }
   ],
   "source": [
    "x = students['Overall Percent']\n",
    "y = students['Distance Z-score']\n",
    "students.plot(x='Overall Percent', y='Distance Z-score', kind='scatter')\n",
    "plt.plot()\n",
    "m, b = np.polyfit(x, y, 1)\n",
    "plt.xlabel('Total Points Earned / Maximum Points Possible')\n",
    "plt.ylabel('Average Z-score of Tree Edit Distance')\n",
    "plt.plot(x, m*x+b, color='red')\n",
    "plt.savefig('C:/Users/Elijah/Documents/GitHub/py-code-to-ast/Data Analysis/graphs/all_distance_vs_perf.png')"
   ]
  },
  {
   "cell_type": "markdown",
   "id": "52df79ca",
   "metadata": {},
   "source": [
    "## Comparing student average Z-score from full point implementations to student's overall performance in quizzes"
   ]
  },
  {
   "cell_type": "code",
   "execution_count": 14,
   "id": "a2825a98",
   "metadata": {},
   "outputs": [],
   "source": [
    "os.chdir(\"C:/Users/Elijah/Desktop/results-only-full-scores\")\n",
    "fullScoreData = pd.DataFrame()\n",
    "for filename in os.listdir(os.getcwd()):\n",
    "    file = pd.read_csv(filename)\n",
    "    fullScoreData = pd.concat([fullScoreData, file])"
   ]
  },
  {
   "cell_type": "code",
   "execution_count": 15,
   "id": "59671caf",
   "metadata": {
    "scrolled": true
   },
   "outputs": [
    {
     "data": {
      "text/html": [
       "<div>\n",
       "<style scoped>\n",
       "    .dataframe tbody tr th:only-of-type {\n",
       "        vertical-align: middle;\n",
       "    }\n",
       "\n",
       "    .dataframe tbody tr th {\n",
       "        vertical-align: top;\n",
       "    }\n",
       "\n",
       "    .dataframe thead th {\n",
       "        text-align: right;\n",
       "    }\n",
       "</style>\n",
       "<table border=\"1\" class=\"dataframe\">\n",
       "  <thead>\n",
       "    <tr style=\"text-align: right;\">\n",
       "      <th></th>\n",
       "      <th>Unnamed: 0</th>\n",
       "      <th>Year</th>\n",
       "      <th>Semester</th>\n",
       "      <th>Quiz #</th>\n",
       "      <th>Student ID</th>\n",
       "      <th>Coding Problem</th>\n",
       "      <th>Score</th>\n",
       "      <th>Maximum</th>\n",
       "      <th>Distance</th>\n",
       "      <th>Percent</th>\n",
       "      <th>Distance Z-score</th>\n",
       "      <th>Distance Min-Max Scaled</th>\n",
       "    </tr>\n",
       "  </thead>\n",
       "  <tbody>\n",
       "    <tr>\n",
       "      <th>0</th>\n",
       "      <td>0</td>\n",
       "      <td>2017</td>\n",
       "      <td>fall</td>\n",
       "      <td>quiz06</td>\n",
       "      <td>s1a2bc1e2</td>\n",
       "      <td>AllCharsExcept</td>\n",
       "      <td>5</td>\n",
       "      <td>5</td>\n",
       "      <td>35.053191</td>\n",
       "      <td>0.272878</td>\n",
       "      <td>-0.387510</td>\n",
       "      <td>0.050811</td>\n",
       "    </tr>\n",
       "    <tr>\n",
       "      <th>1</th>\n",
       "      <td>1</td>\n",
       "      <td>2017</td>\n",
       "      <td>fall</td>\n",
       "      <td>quiz06</td>\n",
       "      <td>s1a748834</td>\n",
       "      <td>AllCharsExcept</td>\n",
       "      <td>5</td>\n",
       "      <td>5</td>\n",
       "      <td>35.531915</td>\n",
       "      <td>0.276605</td>\n",
       "      <td>-0.364327</td>\n",
       "      <td>0.055676</td>\n",
       "    </tr>\n",
       "    <tr>\n",
       "      <th>2</th>\n",
       "      <td>2</td>\n",
       "      <td>2017</td>\n",
       "      <td>fall</td>\n",
       "      <td>quiz06</td>\n",
       "      <td>s204527a1</td>\n",
       "      <td>AllCharsExcept</td>\n",
       "      <td>5</td>\n",
       "      <td>5</td>\n",
       "      <td>40.319149</td>\n",
       "      <td>0.313872</td>\n",
       "      <td>-0.132494</td>\n",
       "      <td>0.104324</td>\n",
       "    </tr>\n",
       "    <tr>\n",
       "      <th>3</th>\n",
       "      <td>3</td>\n",
       "      <td>2017</td>\n",
       "      <td>fall</td>\n",
       "      <td>quiz06</td>\n",
       "      <td>s20ffbd50</td>\n",
       "      <td>AllCharsExcept</td>\n",
       "      <td>5</td>\n",
       "      <td>5</td>\n",
       "      <td>128.457447</td>\n",
       "      <td>1.000000</td>\n",
       "      <td>4.135801</td>\n",
       "      <td>1.000000</td>\n",
       "    </tr>\n",
       "    <tr>\n",
       "      <th>4</th>\n",
       "      <td>4</td>\n",
       "      <td>2017</td>\n",
       "      <td>fall</td>\n",
       "      <td>quiz06</td>\n",
       "      <td>s2d43f936</td>\n",
       "      <td>AllCharsExcept</td>\n",
       "      <td>5</td>\n",
       "      <td>5</td>\n",
       "      <td>88.053191</td>\n",
       "      <td>0.685466</td>\n",
       "      <td>2.179134</td>\n",
       "      <td>0.589405</td>\n",
       "    </tr>\n",
       "    <tr>\n",
       "      <th>...</th>\n",
       "      <td>...</td>\n",
       "      <td>...</td>\n",
       "      <td>...</td>\n",
       "      <td>...</td>\n",
       "      <td>...</td>\n",
       "      <td>...</td>\n",
       "      <td>...</td>\n",
       "      <td>...</td>\n",
       "      <td>...</td>\n",
       "      <td>...</td>\n",
       "      <td>...</td>\n",
       "      <td>...</td>\n",
       "    </tr>\n",
       "    <tr>\n",
       "      <th>103</th>\n",
       "      <td>103</td>\n",
       "      <td>2018</td>\n",
       "      <td>fall</td>\n",
       "      <td>quiz11</td>\n",
       "      <td>seb2c407c</td>\n",
       "      <td>WriteAndGrade</td>\n",
       "      <td>50</td>\n",
       "      <td>50</td>\n",
       "      <td>270.803738</td>\n",
       "      <td>0.698554</td>\n",
       "      <td>1.649165</td>\n",
       "      <td>0.566781</td>\n",
       "    </tr>\n",
       "    <tr>\n",
       "      <th>104</th>\n",
       "      <td>104</td>\n",
       "      <td>2018</td>\n",
       "      <td>fall</td>\n",
       "      <td>quiz11</td>\n",
       "      <td>see34afd4</td>\n",
       "      <td>WriteAndGrade</td>\n",
       "      <td>50</td>\n",
       "      <td>50</td>\n",
       "      <td>202.766355</td>\n",
       "      <td>0.523047</td>\n",
       "      <td>0.510975</td>\n",
       "      <td>0.314555</td>\n",
       "    </tr>\n",
       "    <tr>\n",
       "      <th>105</th>\n",
       "      <td>105</td>\n",
       "      <td>2018</td>\n",
       "      <td>fall</td>\n",
       "      <td>quiz11</td>\n",
       "      <td>sf0118345</td>\n",
       "      <td>WriteAndGrade</td>\n",
       "      <td>50</td>\n",
       "      <td>50</td>\n",
       "      <td>138.186916</td>\n",
       "      <td>0.356461</td>\n",
       "      <td>-0.569367</td>\n",
       "      <td>0.075148</td>\n",
       "    </tr>\n",
       "    <tr>\n",
       "      <th>106</th>\n",
       "      <td>106</td>\n",
       "      <td>2018</td>\n",
       "      <td>fall</td>\n",
       "      <td>quiz11</td>\n",
       "      <td>sf1f60f2f</td>\n",
       "      <td>WriteAndGrade</td>\n",
       "      <td>50</td>\n",
       "      <td>50</td>\n",
       "      <td>141.177570</td>\n",
       "      <td>0.364176</td>\n",
       "      <td>-0.519337</td>\n",
       "      <td>0.086235</td>\n",
       "    </tr>\n",
       "    <tr>\n",
       "      <th>107</th>\n",
       "      <td>107</td>\n",
       "      <td>2018</td>\n",
       "      <td>fall</td>\n",
       "      <td>quiz11</td>\n",
       "      <td>sf39b2f6f</td>\n",
       "      <td>WriteAndGrade</td>\n",
       "      <td>50</td>\n",
       "      <td>50</td>\n",
       "      <td>179.065421</td>\n",
       "      <td>0.461909</td>\n",
       "      <td>0.114485</td>\n",
       "      <td>0.226692</td>\n",
       "    </tr>\n",
       "  </tbody>\n",
       "</table>\n",
       "<p>12475 rows × 12 columns</p>\n",
       "</div>"
      ],
      "text/plain": [
       "     Unnamed: 0  Year Semester  Quiz # Student ID  Coding Problem  Score  \\\n",
       "0             0  2017     fall  quiz06  s1a2bc1e2  AllCharsExcept      5   \n",
       "1             1  2017     fall  quiz06  s1a748834  AllCharsExcept      5   \n",
       "2             2  2017     fall  quiz06  s204527a1  AllCharsExcept      5   \n",
       "3             3  2017     fall  quiz06  s20ffbd50  AllCharsExcept      5   \n",
       "4             4  2017     fall  quiz06  s2d43f936  AllCharsExcept      5   \n",
       "..          ...   ...      ...     ...        ...             ...    ...   \n",
       "103         103  2018     fall  quiz11  seb2c407c   WriteAndGrade     50   \n",
       "104         104  2018     fall  quiz11  see34afd4   WriteAndGrade     50   \n",
       "105         105  2018     fall  quiz11  sf0118345   WriteAndGrade     50   \n",
       "106         106  2018     fall  quiz11  sf1f60f2f   WriteAndGrade     50   \n",
       "107         107  2018     fall  quiz11  sf39b2f6f   WriteAndGrade     50   \n",
       "\n",
       "     Maximum    Distance   Percent  Distance Z-score  Distance Min-Max Scaled  \n",
       "0          5   35.053191  0.272878         -0.387510                 0.050811  \n",
       "1          5   35.531915  0.276605         -0.364327                 0.055676  \n",
       "2          5   40.319149  0.313872         -0.132494                 0.104324  \n",
       "3          5  128.457447  1.000000          4.135801                 1.000000  \n",
       "4          5   88.053191  0.685466          2.179134                 0.589405  \n",
       "..       ...         ...       ...               ...                      ...  \n",
       "103       50  270.803738  0.698554          1.649165                 0.566781  \n",
       "104       50  202.766355  0.523047          0.510975                 0.314555  \n",
       "105       50  138.186916  0.356461         -0.569367                 0.075148  \n",
       "106       50  141.177570  0.364176         -0.519337                 0.086235  \n",
       "107       50  179.065421  0.461909          0.114485                 0.226692  \n",
       "\n",
       "[12475 rows x 12 columns]"
      ]
     },
     "execution_count": 15,
     "metadata": {},
     "output_type": "execute_result"
    }
   ],
   "source": [
    "fullScoreData"
   ]
  },
  {
   "cell_type": "code",
   "execution_count": 16,
   "id": "4ce2fe0c",
   "metadata": {},
   "outputs": [],
   "source": [
    "fullScoreData2 = fullScoreData.drop(fullScoreData.columns[0], axis=1)"
   ]
  },
  {
   "cell_type": "code",
   "execution_count": 17,
   "id": "d36c422d",
   "metadata": {},
   "outputs": [],
   "source": [
    "#fullScoreData2.to_csv(\"fullScoreProgramData.csv\")"
   ]
  },
  {
   "cell_type": "code",
   "execution_count": 16,
   "id": "e6414658",
   "metadata": {},
   "outputs": [],
   "source": [
    "f_students_mean = fullScoreData2.groupby(\"Student ID\").mean()"
   ]
  },
  {
   "cell_type": "code",
   "execution_count": 17,
   "id": "c5abdbf3",
   "metadata": {},
   "outputs": [],
   "source": [
    "f_zscore = f_students_mean.loc[:, ['Distance Z-score']]"
   ]
  },
  {
   "cell_type": "code",
   "execution_count": 18,
   "id": "8e43152c",
   "metadata": {},
   "outputs": [],
   "source": [
    "f_zscore.rename({'Distance Z-score': 'Z-score of 100% Submissions'}, axis=1, inplace=True)"
   ]
  },
  {
   "cell_type": "code",
   "execution_count": 19,
   "id": "0eb473f5",
   "metadata": {},
   "outputs": [],
   "source": [
    "f_students = students.join(f_zscore)"
   ]
  },
  {
   "cell_type": "code",
   "execution_count": 20,
   "id": "3c0747d3",
   "metadata": {
    "scrolled": true
   },
   "outputs": [],
   "source": [
    "f_students_final = f_students.dropna(subset=['Z-score of 100% Submissions'])"
   ]
  },
  {
   "cell_type": "code",
   "execution_count": 21,
   "id": "c953c52f",
   "metadata": {
    "scrolled": true
   },
   "outputs": [
    {
     "data": {
      "text/html": [
       "<div>\n",
       "<style scoped>\n",
       "    .dataframe tbody tr th:only-of-type {\n",
       "        vertical-align: middle;\n",
       "    }\n",
       "\n",
       "    .dataframe tbody tr th {\n",
       "        vertical-align: top;\n",
       "    }\n",
       "\n",
       "    .dataframe thead th {\n",
       "        text-align: right;\n",
       "    }\n",
       "</style>\n",
       "<table border=\"1\" class=\"dataframe\">\n",
       "  <thead>\n",
       "    <tr style=\"text-align: right;\">\n",
       "      <th></th>\n",
       "      <th>Distance Z-score</th>\n",
       "      <th>Distance Min-Max Scaled</th>\n",
       "      <th>Score</th>\n",
       "      <th>Maximum</th>\n",
       "      <th>Score / Maximum %</th>\n",
       "      <th>Z-score of 100% Submissions</th>\n",
       "    </tr>\n",
       "    <tr>\n",
       "      <th>Student ID</th>\n",
       "      <th></th>\n",
       "      <th></th>\n",
       "      <th></th>\n",
       "      <th></th>\n",
       "      <th></th>\n",
       "      <th></th>\n",
       "    </tr>\n",
       "  </thead>\n",
       "  <tbody>\n",
       "    <tr>\n",
       "      <th>s1041b5c9</th>\n",
       "      <td>0.762457</td>\n",
       "      <td>0.348605</td>\n",
       "      <td>51.0</td>\n",
       "      <td>200</td>\n",
       "      <td>0.255000</td>\n",
       "      <td>0.422196</td>\n",
       "    </tr>\n",
       "    <tr>\n",
       "      <th>s1052bd77</th>\n",
       "      <td>0.214526</td>\n",
       "      <td>0.292264</td>\n",
       "      <td>13.0</td>\n",
       "      <td>81</td>\n",
       "      <td>0.160494</td>\n",
       "      <td>-0.771563</td>\n",
       "    </tr>\n",
       "    <tr>\n",
       "      <th>s106e6058</th>\n",
       "      <td>-0.055967</td>\n",
       "      <td>0.166713</td>\n",
       "      <td>122.0</td>\n",
       "      <td>164</td>\n",
       "      <td>0.743902</td>\n",
       "      <td>0.040294</td>\n",
       "    </tr>\n",
       "    <tr>\n",
       "      <th>s116f876e</th>\n",
       "      <td>-0.200226</td>\n",
       "      <td>0.157200</td>\n",
       "      <td>263.0</td>\n",
       "      <td>299</td>\n",
       "      <td>0.879599</td>\n",
       "      <td>-0.072473</td>\n",
       "    </tr>\n",
       "    <tr>\n",
       "      <th>s121e58a1</th>\n",
       "      <td>-0.226883</td>\n",
       "      <td>0.143856</td>\n",
       "      <td>299.0</td>\n",
       "      <td>299</td>\n",
       "      <td>1.000000</td>\n",
       "      <td>-0.153839</td>\n",
       "    </tr>\n",
       "    <tr>\n",
       "      <th>...</th>\n",
       "      <td>...</td>\n",
       "      <td>...</td>\n",
       "      <td>...</td>\n",
       "      <td>...</td>\n",
       "      <td>...</td>\n",
       "      <td>...</td>\n",
       "    </tr>\n",
       "    <tr>\n",
       "      <th>sfeb87ba8</th>\n",
       "      <td>-0.022967</td>\n",
       "      <td>0.179125</td>\n",
       "      <td>105.0</td>\n",
       "      <td>174</td>\n",
       "      <td>0.603448</td>\n",
       "      <td>-0.196327</td>\n",
       "    </tr>\n",
       "    <tr>\n",
       "      <th>sfeb9f2b1</th>\n",
       "      <td>-0.346523</td>\n",
       "      <td>0.118333</td>\n",
       "      <td>283.0</td>\n",
       "      <td>294</td>\n",
       "      <td>0.962585</td>\n",
       "      <td>-0.317479</td>\n",
       "    </tr>\n",
       "    <tr>\n",
       "      <th>sfefcd29e</th>\n",
       "      <td>-0.372204</td>\n",
       "      <td>0.105349</td>\n",
       "      <td>144.0</td>\n",
       "      <td>254</td>\n",
       "      <td>0.566929</td>\n",
       "      <td>-0.554266</td>\n",
       "    </tr>\n",
       "    <tr>\n",
       "      <th>sff6cfe28</th>\n",
       "      <td>-0.306760</td>\n",
       "      <td>0.116633</td>\n",
       "      <td>289.0</td>\n",
       "      <td>299</td>\n",
       "      <td>0.966555</td>\n",
       "      <td>-0.189347</td>\n",
       "    </tr>\n",
       "    <tr>\n",
       "      <th>sffae1858</th>\n",
       "      <td>-0.266476</td>\n",
       "      <td>0.125698</td>\n",
       "      <td>234.0</td>\n",
       "      <td>264</td>\n",
       "      <td>0.886364</td>\n",
       "      <td>-0.240111</td>\n",
       "    </tr>\n",
       "  </tbody>\n",
       "</table>\n",
       "<p>816 rows × 6 columns</p>\n",
       "</div>"
      ],
      "text/plain": [
       "            Distance Z-score  Distance Min-Max Scaled  Score  Maximum  \\\n",
       "Student ID                                                              \n",
       "s1041b5c9           0.762457                 0.348605   51.0      200   \n",
       "s1052bd77           0.214526                 0.292264   13.0       81   \n",
       "s106e6058          -0.055967                 0.166713  122.0      164   \n",
       "s116f876e          -0.200226                 0.157200  263.0      299   \n",
       "s121e58a1          -0.226883                 0.143856  299.0      299   \n",
       "...                      ...                      ...    ...      ...   \n",
       "sfeb87ba8          -0.022967                 0.179125  105.0      174   \n",
       "sfeb9f2b1          -0.346523                 0.118333  283.0      294   \n",
       "sfefcd29e          -0.372204                 0.105349  144.0      254   \n",
       "sff6cfe28          -0.306760                 0.116633  289.0      299   \n",
       "sffae1858          -0.266476                 0.125698  234.0      264   \n",
       "\n",
       "            Score / Maximum %  Z-score of 100% Submissions  \n",
       "Student ID                                                  \n",
       "s1041b5c9            0.255000                     0.422196  \n",
       "s1052bd77            0.160494                    -0.771563  \n",
       "s106e6058            0.743902                     0.040294  \n",
       "s116f876e            0.879599                    -0.072473  \n",
       "s121e58a1            1.000000                    -0.153839  \n",
       "...                       ...                          ...  \n",
       "sfeb87ba8            0.603448                    -0.196327  \n",
       "sfeb9f2b1            0.962585                    -0.317479  \n",
       "sfefcd29e            0.566929                    -0.554266  \n",
       "sff6cfe28            0.966555                    -0.189347  \n",
       "sffae1858            0.886364                    -0.240111  \n",
       "\n",
       "[816 rows x 6 columns]"
      ]
     },
     "execution_count": 21,
     "metadata": {},
     "output_type": "execute_result"
    }
   ],
   "source": [
    "f_students_final"
   ]
  },
  {
   "cell_type": "code",
   "execution_count": 22,
   "id": "7673ed73",
   "metadata": {},
   "outputs": [],
   "source": [
    "os.chdir(\"C:/Users/Elijah/Documents/GitHub/code-to-ast/data-analysis\")\n",
    "f_students_final.to_csv(\"allStudentData.csv\")"
   ]
  },
  {
   "cell_type": "code",
   "execution_count": 25,
   "id": "ed8f0151",
   "metadata": {
    "scrolled": true
   },
   "outputs": [
    {
     "data": {
      "text/plain": [
       "(-0.10681057837273127, 0.002249201963983794)"
      ]
     },
     "execution_count": 25,
     "metadata": {},
     "output_type": "execute_result"
    }
   ],
   "source": [
    "pearsonr(f_students_final['Z-score of 100% Submissions'], f_students_final['Score / Maximum %'])"
   ]
  },
  {
   "cell_type": "code",
   "execution_count": 26,
   "id": "f5d8a762",
   "metadata": {
    "scrolled": false
   },
   "outputs": [
    {
     "data": {
      "image/png": "[encoded data removed]",
      "text/plain": [
       "<Figure size 432x288 with 1 Axes>"
      ]
     },
     "metadata": {
      "needs_background": "light"
     },
     "output_type": "display_data"
    }
   ],
   "source": [
    "x = f_students_final['Score / Maximum %']\n",
    "y = f_students_final['Distance Z-score']\n",
    "f_students_final.plot(x='Score / Maximum %', y='Distance Z-score', kind='scatter')\n",
    "plt.plot()\n",
    "m, b = np.polyfit(x, y, 1)\n",
    "plt.plot(x, m*x+b, color='red')\n",
    "plt.xlabel('Total Points Earned / Maximum Points Possible')\n",
    "plt.ylabel('Average Z-score of Tree Edit Distance')\n",
    "plt.savefig('C:/Users/Elijah/Documents/GitHub/code-to-ast/data-analysis/graphs/full_score_distance_vs_perf.png')"
   ]
  },
  {
   "cell_type": "markdown",
   "id": "a28b4dbf",
   "metadata": {},
   "source": [
    "### Pearson Correlation of Avg. Z-score of Correct Solutions vs Overall Quiz Performance of 25-75 Quartile Student Data"
   ]
  },
  {
   "cell_type": "code",
   "execution_count": 3,
   "id": "57345fe8",
   "metadata": {},
   "outputs": [],
   "source": [
    "quart_data = pd.read_csv(\"25-75QuartileStudentData.csv\")"
   ]
  },
  {
   "cell_type": "code",
   "execution_count": 6,
   "id": "99aca4ec",
   "metadata": {
    "scrolled": true
   },
   "outputs": [
    {
     "data": {
      "image/png": "[encoded data removed]",
      "text/plain": [
       "<Figure size 432x288 with 1 Axes>"
      ]
     },
     "metadata": {
      "needs_background": "light"
     },
     "output_type": "display_data"
    }
   ],
   "source": [
    "x = quart_data['Quiz Performance']\n",
    "y = quart_data['Distance Z-score']\n",
    "quart_data.plot(x='Quiz Performance', y='Distance Z-score', kind='scatter')\n",
    "plt.plot()\n",
    "m, b = np.polyfit(x, y, 1)\n",
    "plt.plot(x, m*x+b, color='red')\n",
    "plt.xlabel('Total Points Earned / Maximum Points Possible')\n",
    "plt.ylabel('Average Z-score of Tree Edit Distance')\n",
    "plt.savefig('C:/Users/Elijah/Documents/GitHub/code-to-ast/data-analysis/graphs/full_vs_perf_quartile.png')"
   ]
  },
  {
   "cell_type": "code",
   "execution_count": 7,
   "id": "cbab3d17",
   "metadata": {
    "scrolled": true
   },
   "outputs": [
    {
     "data": {
      "text/plain": [
       "(-0.05036675940698827, 0.27026391429325236)"
      ]
     },
     "execution_count": 7,
     "metadata": {},
     "output_type": "execute_result"
    }
   ],
   "source": [
    "pearsonr(quart_data['Distance Z-score'], quart_data['Quiz Performance'])"
   ]
  },
  {
   "cell_type": "markdown",
   "id": "c9efecb2",
   "metadata": {},
   "source": [
    "### Pearson Correlation for 0-25 and 75-100 Quartile Student Data"
   ]
  },
  {
   "cell_type": "code",
   "execution_count": 2,
   "id": "c1d00b1c",
   "metadata": {},
   "outputs": [],
   "source": [
    "low_quart = pd.read_csv(\"0-25QuartileStudentData.csv\")\n",
    "high_quart = pd.read_csv(\"75-100QuartileStudentData.csv\")"
   ]
  },
  {
   "cell_type": "code",
   "execution_count": 3,
   "id": "d33bed42",
   "metadata": {
    "scrolled": true
   },
   "outputs": [
    {
     "data": {
      "image/png": "[encoded data removed]",
      "text/plain": [
       "<Figure size 432x288 with 1 Axes>"
      ]
     },
     "metadata": {
      "needs_background": "light"
     },
     "output_type": "display_data"
    }
   ],
   "source": [
    "x = low_quart['Quiz Performance']\n",
    "y = low_quart['Distance Z-score']\n",
    "low_quart.plot(x='Quiz Performance', y='Distance Z-score', kind='scatter')\n",
    "plt.plot()\n",
    "m, b = np.polyfit(x, y, 1)\n",
    "plt.plot(x, m*x+b, color='red')\n",
    "plt.xlabel('Total Points Earned / Maximum Points Possible')\n",
    "plt.ylabel('Average Z-score of Tree Edit Distance')\n",
    "plt.savefig('C:/Users/Elijah/Documents/GitHub/code-to-ast/data-analysis/graphs/0-25QuartilePearson.png')"
   ]
  },
  {
   "cell_type": "code",
   "execution_count": 5,
   "id": "8d63c7af",
   "metadata": {},
   "outputs": [
    {
     "data": {
      "text/plain": [
       "(0.001393813144517017, 0.9862222409427338)"
      ]
     },
     "execution_count": 5,
     "metadata": {},
     "output_type": "execute_result"
    }
   ],
   "source": [
    "pearsonr(low_quart['Distance Z-score'], low_quart['Quiz Performance'])"
   ]
  },
  {
   "cell_type": "code",
   "execution_count": 4,
   "id": "24805918",
   "metadata": {
    "scrolled": true
   },
   "outputs": [
    {
     "data": {
      "image/png": "[encoded data removed]",
      "text/plain": [
       "<Figure size 432x288 with 1 Axes>"
      ]
     },
     "metadata": {
      "needs_background": "light"
     },
     "output_type": "display_data"
    }
   ],
   "source": [
    "x = high_quart['Quiz Performance']\n",
    "y = high_quart['Distance Z-score']\n",
    "high_quart.plot(x='Quiz Performance', y='Distance Z-score', kind='scatter')\n",
    "plt.plot()\n",
    "m, b = np.polyfit(x, y, 1)\n",
    "plt.plot(x, m*x+b, color='red')\n",
    "plt.xlabel('Total Points Earned / Maximum Points Possible')\n",
    "plt.ylabel('Average Z-score of Tree Edit Distance')\n",
    "plt.savefig('C:/Users/Elijah/Documents/GitHub/code-to-ast/data-analysis/graphs/75-100QuartilePearson.png')"
   ]
  },
  {
   "cell_type": "code",
   "execution_count": 6,
   "id": "c0b2b118",
   "metadata": {},
   "outputs": [
    {
     "data": {
      "text/plain": [
       "(-0.11487944785440184, 0.05573125837781127)"
      ]
     },
     "execution_count": 6,
     "metadata": {},
     "output_type": "execute_result"
    }
   ],
   "source": [
    "pearsonr(high_quart['Distance Z-score'], high_quart['Quiz Performance'])"
   ]
  }
 ],
 "metadata": {
  "kernelspec": {
   "display_name": "Python 3",
   "language": "python",
   "name": "python3"
  },
  "language_info": {
   "codemirror_mode": {
    "name": "ipython",
    "version": 3
   },
   "file_extension": ".py",
   "mimetype": "text/x-python",
   "name": "python",
   "nbconvert_exporter": "python",
   "pygments_lexer": "ipython3",
   "version": "3.8.8"
  }
 },
 "nbformat": 4,
 "nbformat_minor": 5
}
