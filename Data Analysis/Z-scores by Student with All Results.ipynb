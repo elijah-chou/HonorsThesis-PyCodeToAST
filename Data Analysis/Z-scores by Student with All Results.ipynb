{
 "cells": [
  {
   "cell_type": "code",
   "execution_count": 1,
   "id": "1ea5570d",
   "metadata": {},
   "outputs": [],
   "source": [
    "import pandas as pd\n",
    "import numpy as np\n",
    "import matplotlib.pyplot as plt\n",
    "from scipy.stats import pearsonr\n",
    "import os\n",
    "%matplotlib inline"
   ]
  },
  {
   "cell_type": "code",
   "execution_count": 25,
   "id": "436718aa",
   "metadata": {},
   "outputs": [],
   "source": [
    "os.chdir(\"C:/Users/Elijah/Downloads/code-answers-scores-python/Results\")\n",
    "allData = pd.DataFrame()\n",
    "for filename in os.listdir(os.getcwd()):\n",
    "    file = pd.read_csv(filename)\n",
    "    allData = pd.concat([allData, file])"
   ]
  },
  {
   "cell_type": "code",
   "execution_count": 26,
   "id": "d05ea466",
   "metadata": {},
   "outputs": [
    {
     "data": {
      "text/html": [
       "<div>\n",
       "<style scoped>\n",
       "    .dataframe tbody tr th:only-of-type {\n",
       "        vertical-align: middle;\n",
       "    }\n",
       "\n",
       "    .dataframe tbody tr th {\n",
       "        vertical-align: top;\n",
       "    }\n",
       "\n",
       "    .dataframe thead th {\n",
       "        text-align: right;\n",
       "    }\n",
       "</style>\n",
       "<table border=\"1\" class=\"dataframe\">\n",
       "  <thead>\n",
       "    <tr style=\"text-align: right;\">\n",
       "      <th></th>\n",
       "      <th>Unnamed: 0</th>\n",
       "      <th>Year</th>\n",
       "      <th>Semester</th>\n",
       "      <th>Quiz/Exam</th>\n",
       "      <th>Student ID</th>\n",
       "      <th>Coding Problem</th>\n",
       "      <th>Earned Score</th>\n",
       "      <th>Maximum Score</th>\n",
       "      <th>Distance</th>\n",
       "      <th>Distance Z-score</th>\n",
       "    </tr>\n",
       "  </thead>\n",
       "  <tbody>\n",
       "    <tr>\n",
       "      <th>0</th>\n",
       "      <td>0</td>\n",
       "      <td>2013</td>\n",
       "      <td>spring</td>\n",
       "      <td>quiz4</td>\n",
       "      <td>s111f453</td>\n",
       "      <td>BodyType</td>\n",
       "      <td>4</td>\n",
       "      <td>5</td>\n",
       "      <td>24.862069</td>\n",
       "      <td>2.369913e+00</td>\n",
       "    </tr>\n",
       "    <tr>\n",
       "      <th>1</th>\n",
       "      <td>1</td>\n",
       "      <td>2013</td>\n",
       "      <td>spring</td>\n",
       "      <td>quiz4</td>\n",
       "      <td>s18f746e0</td>\n",
       "      <td>BodyType</td>\n",
       "      <td>5</td>\n",
       "      <td>5</td>\n",
       "      <td>12.137931</td>\n",
       "      <td>-1.075291e+00</td>\n",
       "    </tr>\n",
       "    <tr>\n",
       "      <th>2</th>\n",
       "      <td>2</td>\n",
       "      <td>2013</td>\n",
       "      <td>spring</td>\n",
       "      <td>quiz4</td>\n",
       "      <td>s23f81012</td>\n",
       "      <td>BodyType</td>\n",
       "      <td>5</td>\n",
       "      <td>5</td>\n",
       "      <td>21.155172</td>\n",
       "      <td>1.366229e+00</td>\n",
       "    </tr>\n",
       "    <tr>\n",
       "      <th>3</th>\n",
       "      <td>3</td>\n",
       "      <td>2013</td>\n",
       "      <td>spring</td>\n",
       "      <td>quiz4</td>\n",
       "      <td>s27774cef</td>\n",
       "      <td>BodyType</td>\n",
       "      <td>5</td>\n",
       "      <td>5</td>\n",
       "      <td>16.810345</td>\n",
       "      <td>1.898177e-01</td>\n",
       "    </tr>\n",
       "    <tr>\n",
       "      <th>4</th>\n",
       "      <td>4</td>\n",
       "      <td>2013</td>\n",
       "      <td>spring</td>\n",
       "      <td>quiz4</td>\n",
       "      <td>s29d1098c</td>\n",
       "      <td>BodyType</td>\n",
       "      <td>4</td>\n",
       "      <td>5</td>\n",
       "      <td>19.344828</td>\n",
       "      <td>8.760574e-01</td>\n",
       "    </tr>\n",
       "    <tr>\n",
       "      <th>...</th>\n",
       "      <td>...</td>\n",
       "      <td>...</td>\n",
       "      <td>...</td>\n",
       "      <td>...</td>\n",
       "      <td>...</td>\n",
       "      <td>...</td>\n",
       "      <td>...</td>\n",
       "      <td>...</td>\n",
       "      <td>...</td>\n",
       "      <td>...</td>\n",
       "    </tr>\n",
       "    <tr>\n",
       "      <th>1</th>\n",
       "      <td>1</td>\n",
       "      <td>2013</td>\n",
       "      <td>spring</td>\n",
       "      <td>quiz9w</td>\n",
       "      <td>s564281ce</td>\n",
       "      <td>Younger</td>\n",
       "      <td>1</td>\n",
       "      <td>5</td>\n",
       "      <td>21.000000</td>\n",
       "      <td>2.468070e-01</td>\n",
       "    </tr>\n",
       "    <tr>\n",
       "      <th>2</th>\n",
       "      <td>2</td>\n",
       "      <td>2013</td>\n",
       "      <td>spring</td>\n",
       "      <td>quiz9w</td>\n",
       "      <td>s70c07b9e</td>\n",
       "      <td>Younger</td>\n",
       "      <td>1</td>\n",
       "      <td>5</td>\n",
       "      <td>20.800000</td>\n",
       "      <td>1.234035e-01</td>\n",
       "    </tr>\n",
       "    <tr>\n",
       "      <th>3</th>\n",
       "      <td>3</td>\n",
       "      <td>2013</td>\n",
       "      <td>spring</td>\n",
       "      <td>quiz9w</td>\n",
       "      <td>sc2ea6ca8</td>\n",
       "      <td>Younger</td>\n",
       "      <td>0</td>\n",
       "      <td>5</td>\n",
       "      <td>23.600000</td>\n",
       "      <td>1.851053e+00</td>\n",
       "    </tr>\n",
       "    <tr>\n",
       "      <th>4</th>\n",
       "      <td>4</td>\n",
       "      <td>2013</td>\n",
       "      <td>spring</td>\n",
       "      <td>quiz9w</td>\n",
       "      <td>sc6713607</td>\n",
       "      <td>Younger</td>\n",
       "      <td>5</td>\n",
       "      <td>5</td>\n",
       "      <td>19.000000</td>\n",
       "      <td>-9.872281e-01</td>\n",
       "    </tr>\n",
       "    <tr>\n",
       "      <th>5</th>\n",
       "      <td>5</td>\n",
       "      <td>2013</td>\n",
       "      <td>spring</td>\n",
       "      <td>quiz9w</td>\n",
       "      <td>sfb7d4ca7</td>\n",
       "      <td>Younger</td>\n",
       "      <td>2</td>\n",
       "      <td>5</td>\n",
       "      <td>20.600000</td>\n",
       "      <td>2.192087e-15</td>\n",
       "    </tr>\n",
       "  </tbody>\n",
       "</table>\n",
       "<p>1724 rows × 10 columns</p>\n",
       "</div>"
      ],
      "text/plain": [
       "    Unnamed: 0  Year Semester Quiz/Exam Student ID Coding Problem  \\\n",
       "0            0  2013   spring     quiz4   s111f453       BodyType   \n",
       "1            1  2013   spring     quiz4  s18f746e0       BodyType   \n",
       "2            2  2013   spring     quiz4  s23f81012       BodyType   \n",
       "3            3  2013   spring     quiz4  s27774cef       BodyType   \n",
       "4            4  2013   spring     quiz4  s29d1098c       BodyType   \n",
       "..         ...   ...      ...       ...        ...            ...   \n",
       "1            1  2013   spring    quiz9w  s564281ce        Younger   \n",
       "2            2  2013   spring    quiz9w  s70c07b9e        Younger   \n",
       "3            3  2013   spring    quiz9w  sc2ea6ca8        Younger   \n",
       "4            4  2013   spring    quiz9w  sc6713607        Younger   \n",
       "5            5  2013   spring    quiz9w  sfb7d4ca7        Younger   \n",
       "\n",
       "    Earned Score  Maximum Score   Distance  Distance Z-score  \n",
       "0              4              5  24.862069      2.369913e+00  \n",
       "1              5              5  12.137931     -1.075291e+00  \n",
       "2              5              5  21.155172      1.366229e+00  \n",
       "3              5              5  16.810345      1.898177e-01  \n",
       "4              4              5  19.344828      8.760574e-01  \n",
       "..           ...            ...        ...               ...  \n",
       "1              1              5  21.000000      2.468070e-01  \n",
       "2              1              5  20.800000      1.234035e-01  \n",
       "3              0              5  23.600000      1.851053e+00  \n",
       "4              5              5  19.000000     -9.872281e-01  \n",
       "5              2              5  20.600000      2.192087e-15  \n",
       "\n",
       "[1724 rows x 10 columns]"
      ]
     },
     "execution_count": 26,
     "metadata": {},
     "output_type": "execute_result"
    }
   ],
   "source": [
    "allData"
   ]
  },
  {
   "cell_type": "code",
   "execution_count": 27,
   "id": "f1fed51c",
   "metadata": {},
   "outputs": [],
   "source": [
    "allData2 = allData.drop(allData.columns[0], axis=1)"
   ]
  },
  {
   "cell_type": "code",
   "execution_count": 28,
   "id": "e9dcd38d",
   "metadata": {
    "scrolled": false
   },
   "outputs": [
    {
     "data": {
      "text/plain": [
       "Year                  int64\n",
       "Semester             object\n",
       "Quiz/Exam            object\n",
       "Student ID           object\n",
       "Coding Problem       object\n",
       "Earned Score          int64\n",
       "Maximum Score         int64\n",
       "Distance            float64\n",
       "Distance Z-score    float64\n",
       "dtype: object"
      ]
     },
     "execution_count": 28,
     "metadata": {},
     "output_type": "execute_result"
    }
   ],
   "source": [
    "allData2.dtypes"
   ]
  },
  {
   "cell_type": "code",
   "execution_count": 7,
   "id": "4ac2beb1",
   "metadata": {},
   "outputs": [],
   "source": [
    "# This line of code is only to export all data we have \n",
    "# allData2.to_csv(\"allStudentProgramsDataWith0Score.csv\", index=False)"
   ]
  },
  {
   "cell_type": "code",
   "execution_count": 29,
   "id": "8f1b88a8",
   "metadata": {},
   "outputs": [],
   "source": [
    "students_mean = allData2.groupby(\"Student ID\").mean()"
   ]
  },
  {
   "cell_type": "code",
   "execution_count": 30,
   "id": "82c52276",
   "metadata": {},
   "outputs": [],
   "source": [
    "zscore = students_mean.loc[:, ['Distance Z-score']]"
   ]
  },
  {
   "cell_type": "code",
   "execution_count": 31,
   "id": "48f16fc1",
   "metadata": {},
   "outputs": [],
   "source": [
    "students_sum = allData2.groupby(\"Student ID\").sum()"
   ]
  },
  {
   "cell_type": "code",
   "execution_count": 32,
   "id": "39d0f8bf",
   "metadata": {},
   "outputs": [],
   "source": [
    "grades = students_sum.loc[:, ['Earned Score', 'Maximum Score']]"
   ]
  },
  {
   "cell_type": "code",
   "execution_count": 33,
   "id": "dc033f95",
   "metadata": {},
   "outputs": [],
   "source": [
    "students = zscore.join(grades)"
   ]
  },
  {
   "cell_type": "code",
   "execution_count": 34,
   "id": "843b0344",
   "metadata": {
    "scrolled": false
   },
   "outputs": [],
   "source": [
    "students[\"Overall Percent\"] = students['Earned Score'] / students['Maximum Score']"
   ]
  },
  {
   "cell_type": "code",
   "execution_count": 35,
   "id": "16a70ae1",
   "metadata": {
    "scrolled": true
   },
   "outputs": [
    {
     "data": {
      "text/html": [
       "<div>\n",
       "<style scoped>\n",
       "    .dataframe tbody tr th:only-of-type {\n",
       "        vertical-align: middle;\n",
       "    }\n",
       "\n",
       "    .dataframe tbody tr th {\n",
       "        vertical-align: top;\n",
       "    }\n",
       "\n",
       "    .dataframe thead th {\n",
       "        text-align: right;\n",
       "    }\n",
       "</style>\n",
       "<table border=\"1\" class=\"dataframe\">\n",
       "  <thead>\n",
       "    <tr style=\"text-align: right;\">\n",
       "      <th></th>\n",
       "      <th>Distance Z-score</th>\n",
       "      <th>Earned Score</th>\n",
       "      <th>Maximum Score</th>\n",
       "      <th>Overall Percent</th>\n",
       "    </tr>\n",
       "    <tr>\n",
       "      <th>Student ID</th>\n",
       "      <th></th>\n",
       "      <th></th>\n",
       "      <th></th>\n",
       "      <th></th>\n",
       "    </tr>\n",
       "  </thead>\n",
       "  <tbody>\n",
       "    <tr>\n",
       "      <th>s111f453</th>\n",
       "      <td>0.279357</td>\n",
       "      <td>71</td>\n",
       "      <td>88</td>\n",
       "      <td>0.806818</td>\n",
       "    </tr>\n",
       "    <tr>\n",
       "      <th>s185bfebd</th>\n",
       "      <td>0.089652</td>\n",
       "      <td>63</td>\n",
       "      <td>105</td>\n",
       "      <td>0.600000</td>\n",
       "    </tr>\n",
       "    <tr>\n",
       "      <th>s189f9c70</th>\n",
       "      <td>0.018496</td>\n",
       "      <td>36</td>\n",
       "      <td>54</td>\n",
       "      <td>0.666667</td>\n",
       "    </tr>\n",
       "    <tr>\n",
       "      <th>s18f746e0</th>\n",
       "      <td>-0.444384</td>\n",
       "      <td>79</td>\n",
       "      <td>95</td>\n",
       "      <td>0.831579</td>\n",
       "    </tr>\n",
       "    <tr>\n",
       "      <th>s1a555e8d</th>\n",
       "      <td>-0.217776</td>\n",
       "      <td>68</td>\n",
       "      <td>113</td>\n",
       "      <td>0.601770</td>\n",
       "    </tr>\n",
       "    <tr>\n",
       "      <th>...</th>\n",
       "      <td>...</td>\n",
       "      <td>...</td>\n",
       "      <td>...</td>\n",
       "      <td>...</td>\n",
       "    </tr>\n",
       "    <tr>\n",
       "      <th>sfbb08d7</th>\n",
       "      <td>-0.026357</td>\n",
       "      <td>13</td>\n",
       "      <td>14</td>\n",
       "      <td>0.928571</td>\n",
       "    </tr>\n",
       "    <tr>\n",
       "      <th>sfc3bcc7d</th>\n",
       "      <td>0.133080</td>\n",
       "      <td>110</td>\n",
       "      <td>140</td>\n",
       "      <td>0.785714</td>\n",
       "    </tr>\n",
       "    <tr>\n",
       "      <th>sfe2341ab</th>\n",
       "      <td>-0.508778</td>\n",
       "      <td>80</td>\n",
       "      <td>99</td>\n",
       "      <td>0.808081</td>\n",
       "    </tr>\n",
       "    <tr>\n",
       "      <th>sfed34002</th>\n",
       "      <td>-0.230070</td>\n",
       "      <td>100</td>\n",
       "      <td>105</td>\n",
       "      <td>0.952381</td>\n",
       "    </tr>\n",
       "    <tr>\n",
       "      <th>sfee6ffa8</th>\n",
       "      <td>-0.264207</td>\n",
       "      <td>77</td>\n",
       "      <td>133</td>\n",
       "      <td>0.578947</td>\n",
       "    </tr>\n",
       "  </tbody>\n",
       "</table>\n",
       "<p>160 rows × 4 columns</p>\n",
       "</div>"
      ],
      "text/plain": [
       "            Distance Z-score  Earned Score  Maximum Score  Overall Percent\n",
       "Student ID                                                                \n",
       "s111f453            0.279357            71             88         0.806818\n",
       "s185bfebd           0.089652            63            105         0.600000\n",
       "s189f9c70           0.018496            36             54         0.666667\n",
       "s18f746e0          -0.444384            79             95         0.831579\n",
       "s1a555e8d          -0.217776            68            113         0.601770\n",
       "...                      ...           ...            ...              ...\n",
       "sfbb08d7           -0.026357            13             14         0.928571\n",
       "sfc3bcc7d           0.133080           110            140         0.785714\n",
       "sfe2341ab          -0.508778            80             99         0.808081\n",
       "sfed34002          -0.230070           100            105         0.952381\n",
       "sfee6ffa8          -0.264207            77            133         0.578947\n",
       "\n",
       "[160 rows x 4 columns]"
      ]
     },
     "execution_count": 35,
     "metadata": {},
     "output_type": "execute_result"
    }
   ],
   "source": [
    "students"
   ]
  },
  {
   "cell_type": "code",
   "execution_count": 15,
   "id": "fc3e8447",
   "metadata": {},
   "outputs": [],
   "source": [
    "# students.to_csv(\"allStudentDataIncluding0Score.csv\", index=False)"
   ]
  },
  {
   "cell_type": "code",
   "execution_count": 36,
   "id": "e93b6bd9",
   "metadata": {},
   "outputs": [
    {
     "data": {
      "text/plain": [
       "-0.4309819139346733"
      ]
     },
     "execution_count": 36,
     "metadata": {},
     "output_type": "execute_result"
    }
   ],
   "source": [
    "students['Distance Z-score'].corr(students['Overall Percent'],method='pearson')"
   ]
  },
  {
   "cell_type": "code",
   "execution_count": 37,
   "id": "ef6149a2",
   "metadata": {
    "scrolled": true
   },
   "outputs": [
    {
     "data": {
      "text/plain": [
       "(-0.43098191393467344, 1.2774294515383252e-08)"
      ]
     },
     "execution_count": 37,
     "metadata": {},
     "output_type": "execute_result"
    }
   ],
   "source": [
    "pearsonr(students['Distance Z-score'], students['Overall Percent'])"
   ]
  },
  {
   "cell_type": "code",
   "execution_count": 50,
   "id": "9f6dad50",
   "metadata": {
    "scrolled": true
   },
   "outputs": [
    {
     "data": {
      "image/png": "[encoded data removed]",
      "text/plain": [
       "<Figure size 432x288 with 1 Axes>"
      ]
     },
     "metadata": {
      "needs_background": "light"
     },
     "output_type": "display_data"
    }
   ],
   "source": [
    "x = students['Overall Percent']\n",
    "y = students['Distance Z-score']\n",
    "students.plot(x='Overall Percent', y='Distance Z-score', kind='scatter')\n",
    "plt.plot()\n",
    "m, b = np.polyfit(x, y, 1)\n",
    "plt.xlabel('Total Points Earned / Maximum Points Possible')\n",
    "plt.ylabel('Average Z-score of Tree Edit Distance')\n",
    "plt.plot(x, m*x+b, color='red')\n",
    "plt.savefig('C:/Users/Elijah/Documents/GitHub/py-code-to-ast/Data Analysis/graphs/py-all_distance_vs_perf.png')"
   ]
  },
  {
   "cell_type": "markdown",
   "id": "52df79ca",
   "metadata": {},
   "source": [
    "## Comparing student average Z-score from full point implementations to student's overall performance in quizzes"
   ]
  },
  {
   "cell_type": "code",
   "execution_count": 2,
   "id": "a2825a98",
   "metadata": {},
   "outputs": [],
   "source": [
    "os.chdir(\"C:/Users/Elijah/Desktop/pythonResults/pythonResults\")\n",
    "fullScoreData = pd.DataFrame()\n",
    "for filename in os.listdir(os.getcwd()):\n",
    "    file = pd.read_csv(filename)\n",
    "    fullScoreData = pd.concat([fullScoreData, file])"
   ]
  },
  {
   "cell_type": "code",
   "execution_count": 3,
   "id": "59671caf",
   "metadata": {
    "scrolled": false
   },
   "outputs": [],
   "source": [
    "fullScoreData2 = fullScoreData.drop(fullScoreData.columns[0], axis=1)"
   ]
  },
  {
   "cell_type": "code",
   "execution_count": 20,
   "id": "d36c422d",
   "metadata": {},
   "outputs": [],
   "source": [
    "os.chdir(\"C:/Users/Elijah/Documents/GitHub/py-code-to-ast/Data Analysis\")\n",
    "fullScoreData2.to_csv(\"fullScoreProgramData.csv\", index=False)"
   ]
  },
  {
   "cell_type": "code",
   "execution_count": 21,
   "id": "e6414658",
   "metadata": {},
   "outputs": [],
   "source": [
    "f_students_mean = fullScoreData.groupby(\"Student ID\").mean()"
   ]
  },
  {
   "cell_type": "code",
   "execution_count": 22,
   "id": "c5abdbf3",
   "metadata": {},
   "outputs": [],
   "source": [
    "f_zscore = f_students_mean.loc[:, ['Distance Z-score']]"
   ]
  },
  {
   "cell_type": "code",
   "execution_count": 23,
   "id": "8e43152c",
   "metadata": {},
   "outputs": [],
   "source": [
    "f_zscore.rename({'Distance Z-score': 'Z-score of 100% Submissions'}, axis=1, inplace=True)"
   ]
  },
  {
   "cell_type": "code",
   "execution_count": 39,
   "id": "0eb473f5",
   "metadata": {},
   "outputs": [],
   "source": [
    "f_students = students.join(f_zscore)"
   ]
  },
  {
   "cell_type": "code",
   "execution_count": 40,
   "id": "3c0747d3",
   "metadata": {
    "scrolled": true
   },
   "outputs": [],
   "source": [
    "f_students_final = f_students.dropna(subset=['Z-score of 100% Submissions'])"
   ]
  },
  {
   "cell_type": "code",
   "execution_count": 41,
   "id": "c953c52f",
   "metadata": {
    "scrolled": true
   },
   "outputs": [
    {
     "data": {
      "text/html": [
       "<div>\n",
       "<style scoped>\n",
       "    .dataframe tbody tr th:only-of-type {\n",
       "        vertical-align: middle;\n",
       "    }\n",
       "\n",
       "    .dataframe tbody tr th {\n",
       "        vertical-align: top;\n",
       "    }\n",
       "\n",
       "    .dataframe thead th {\n",
       "        text-align: right;\n",
       "    }\n",
       "</style>\n",
       "<table border=\"1\" class=\"dataframe\">\n",
       "  <thead>\n",
       "    <tr style=\"text-align: right;\">\n",
       "      <th></th>\n",
       "      <th>Distance Z-score</th>\n",
       "      <th>Earned Score</th>\n",
       "      <th>Maximum Score</th>\n",
       "      <th>Overall Percent</th>\n",
       "      <th>Z-score of 100% Submissions</th>\n",
       "    </tr>\n",
       "    <tr>\n",
       "      <th>Student ID</th>\n",
       "      <th></th>\n",
       "      <th></th>\n",
       "      <th></th>\n",
       "      <th></th>\n",
       "      <th></th>\n",
       "    </tr>\n",
       "  </thead>\n",
       "  <tbody>\n",
       "    <tr>\n",
       "      <th>s111f453</th>\n",
       "      <td>0.279357</td>\n",
       "      <td>71</td>\n",
       "      <td>88</td>\n",
       "      <td>0.806818</td>\n",
       "      <td>-0.503281</td>\n",
       "    </tr>\n",
       "    <tr>\n",
       "      <th>s185bfebd</th>\n",
       "      <td>0.089652</td>\n",
       "      <td>63</td>\n",
       "      <td>105</td>\n",
       "      <td>0.600000</td>\n",
       "      <td>0.025944</td>\n",
       "    </tr>\n",
       "    <tr>\n",
       "      <th>s189f9c70</th>\n",
       "      <td>0.018496</td>\n",
       "      <td>36</td>\n",
       "      <td>54</td>\n",
       "      <td>0.666667</td>\n",
       "      <td>0.364356</td>\n",
       "    </tr>\n",
       "    <tr>\n",
       "      <th>s18f746e0</th>\n",
       "      <td>-0.444384</td>\n",
       "      <td>79</td>\n",
       "      <td>95</td>\n",
       "      <td>0.831579</td>\n",
       "      <td>-0.223750</td>\n",
       "    </tr>\n",
       "    <tr>\n",
       "      <th>s1a555e8d</th>\n",
       "      <td>-0.217776</td>\n",
       "      <td>68</td>\n",
       "      <td>113</td>\n",
       "      <td>0.601770</td>\n",
       "      <td>-0.357871</td>\n",
       "    </tr>\n",
       "    <tr>\n",
       "      <th>...</th>\n",
       "      <td>...</td>\n",
       "      <td>...</td>\n",
       "      <td>...</td>\n",
       "      <td>...</td>\n",
       "      <td>...</td>\n",
       "    </tr>\n",
       "    <tr>\n",
       "      <th>sfbb08d7</th>\n",
       "      <td>-0.026357</td>\n",
       "      <td>13</td>\n",
       "      <td>14</td>\n",
       "      <td>0.928571</td>\n",
       "      <td>0.004132</td>\n",
       "    </tr>\n",
       "    <tr>\n",
       "      <th>sfc3bcc7d</th>\n",
       "      <td>0.133080</td>\n",
       "      <td>110</td>\n",
       "      <td>140</td>\n",
       "      <td>0.785714</td>\n",
       "      <td>0.230893</td>\n",
       "    </tr>\n",
       "    <tr>\n",
       "      <th>sfe2341ab</th>\n",
       "      <td>-0.508778</td>\n",
       "      <td>80</td>\n",
       "      <td>99</td>\n",
       "      <td>0.808081</td>\n",
       "      <td>-0.503328</td>\n",
       "    </tr>\n",
       "    <tr>\n",
       "      <th>sfed34002</th>\n",
       "      <td>-0.230070</td>\n",
       "      <td>100</td>\n",
       "      <td>105</td>\n",
       "      <td>0.952381</td>\n",
       "      <td>-0.213466</td>\n",
       "    </tr>\n",
       "    <tr>\n",
       "      <th>sfee6ffa8</th>\n",
       "      <td>-0.264207</td>\n",
       "      <td>77</td>\n",
       "      <td>133</td>\n",
       "      <td>0.578947</td>\n",
       "      <td>-0.049344</td>\n",
       "    </tr>\n",
       "  </tbody>\n",
       "</table>\n",
       "<p>150 rows × 5 columns</p>\n",
       "</div>"
      ],
      "text/plain": [
       "            Distance Z-score  Earned Score  Maximum Score  Overall Percent  \\\n",
       "Student ID                                                                   \n",
       "s111f453            0.279357            71             88         0.806818   \n",
       "s185bfebd           0.089652            63            105         0.600000   \n",
       "s189f9c70           0.018496            36             54         0.666667   \n",
       "s18f746e0          -0.444384            79             95         0.831579   \n",
       "s1a555e8d          -0.217776            68            113         0.601770   \n",
       "...                      ...           ...            ...              ...   \n",
       "sfbb08d7           -0.026357            13             14         0.928571   \n",
       "sfc3bcc7d           0.133080           110            140         0.785714   \n",
       "sfe2341ab          -0.508778            80             99         0.808081   \n",
       "sfed34002          -0.230070           100            105         0.952381   \n",
       "sfee6ffa8          -0.264207            77            133         0.578947   \n",
       "\n",
       "            Z-score of 100% Submissions  \n",
       "Student ID                               \n",
       "s111f453                      -0.503281  \n",
       "s185bfebd                      0.025944  \n",
       "s189f9c70                      0.364356  \n",
       "s18f746e0                     -0.223750  \n",
       "s1a555e8d                     -0.357871  \n",
       "...                                 ...  \n",
       "sfbb08d7                       0.004132  \n",
       "sfc3bcc7d                      0.230893  \n",
       "sfe2341ab                     -0.503328  \n",
       "sfed34002                     -0.213466  \n",
       "sfee6ffa8                     -0.049344  \n",
       "\n",
       "[150 rows x 5 columns]"
      ]
     },
     "execution_count": 41,
     "metadata": {},
     "output_type": "execute_result"
    }
   ],
   "source": [
    "f_students_final"
   ]
  },
  {
   "cell_type": "code",
   "execution_count": 42,
   "id": "7673ed73",
   "metadata": {},
   "outputs": [],
   "source": [
    "os.chdir(\"C:/Users/Elijah/Documents/GitHub/py-code-to-ast/Data Analysis\")\n",
    "f_students_final.to_csv(\"allStudentData.csv\", index=False)"
   ]
  },
  {
   "cell_type": "code",
   "execution_count": 44,
   "id": "ed8f0151",
   "metadata": {
    "scrolled": true
   },
   "outputs": [
    {
     "data": {
      "text/plain": [
       "(-0.03638137264436063, 0.6584907244325531)"
      ]
     },
     "execution_count": 44,
     "metadata": {},
     "output_type": "execute_result"
    }
   ],
   "source": [
    "pearsonr(f_students_final['Z-score of 100% Submissions'], f_students_final['Overall Percent'])"
   ]
  },
  {
   "cell_type": "code",
   "execution_count": 49,
   "id": "f5d8a762",
   "metadata": {
    "scrolled": false
   },
   "outputs": [
    {
     "data": {
      "image/png": "[encoded data removed]",
      "text/plain": [
       "<Figure size 432x288 with 1 Axes>"
      ]
     },
     "metadata": {
      "needs_background": "light"
     },
     "output_type": "display_data"
    }
   ],
   "source": [
    "x = f_students_final['Overall Percent']\n",
    "y = f_students_final['Z-score of 100% Submissions']\n",
    "f_students_final.plot(x='Overall Percent', y='Z-score of 100% Submissions', kind='scatter')\n",
    "plt.plot()\n",
    "m, b = np.polyfit(x, y, 1)\n",
    "plt.plot(x, m*x+b, color='red')\n",
    "plt.xlabel('Total Points Earned / Maximum Points Possible')\n",
    "plt.ylabel('Average Z-score of Tree Edit Distance')\n",
    "plt.savefig('C:/Users/Elijah/Documents/GitHub/py-code-to-ast/Data Analysis/graphs/py-full_score_distance_vs_perf.png')"
   ]
  },
  {
   "cell_type": "markdown",
   "id": "a28b4dbf",
   "metadata": {},
   "source": [
    "### Pearson Correlation of Avg. Z-score of Correct Solutions vs Overall Quiz Performance of 25-75 Quartile Student Data"
   ]
  },
  {
   "cell_type": "code",
   "execution_count": 3,
   "id": "57345fe8",
   "metadata": {},
   "outputs": [],
   "source": [
    "quart_data = pd.read_csv(\"25-75QuartileStudentData.csv\")"
   ]
  },
  {
   "cell_type": "code",
   "execution_count": 48,
   "id": "99aca4ec",
   "metadata": {
    "scrolled": true
   },
   "outputs": [
    {
     "ename": "NameError",
     "evalue": "name 'quart_data' is not defined",
     "output_type": "error",
     "traceback": [
      "\u001b[1;31m---------------------------------------------------------------------------\u001b[0m",
      "\u001b[1;31mNameError\u001b[0m                                 Traceback (most recent call last)",
      "\u001b[1;32m<ipython-input-48-ba9e1a65974f>\u001b[0m in \u001b[0;36m<module>\u001b[1;34m\u001b[0m\n\u001b[1;32m----> 1\u001b[1;33m \u001b[0mx\u001b[0m \u001b[1;33m=\u001b[0m \u001b[0mquart_data\u001b[0m\u001b[1;33m[\u001b[0m\u001b[1;34m'Quiz Performance'\u001b[0m\u001b[1;33m]\u001b[0m\u001b[1;33m\u001b[0m\u001b[1;33m\u001b[0m\u001b[0m\n\u001b[0m\u001b[0;32m      2\u001b[0m \u001b[0my\u001b[0m \u001b[1;33m=\u001b[0m \u001b[0mquart_data\u001b[0m\u001b[1;33m[\u001b[0m\u001b[1;34m'Distance Z-score'\u001b[0m\u001b[1;33m]\u001b[0m\u001b[1;33m\u001b[0m\u001b[1;33m\u001b[0m\u001b[0m\n\u001b[0;32m      3\u001b[0m \u001b[0mquart_data\u001b[0m\u001b[1;33m.\u001b[0m\u001b[0mplot\u001b[0m\u001b[1;33m(\u001b[0m\u001b[0mx\u001b[0m\u001b[1;33m=\u001b[0m\u001b[1;34m'Quiz Performance'\u001b[0m\u001b[1;33m,\u001b[0m \u001b[0my\u001b[0m\u001b[1;33m=\u001b[0m\u001b[1;34m'Distance Z-score'\u001b[0m\u001b[1;33m,\u001b[0m \u001b[0mkind\u001b[0m\u001b[1;33m=\u001b[0m\u001b[1;34m'scatter'\u001b[0m\u001b[1;33m)\u001b[0m\u001b[1;33m\u001b[0m\u001b[1;33m\u001b[0m\u001b[0m\n\u001b[0;32m      4\u001b[0m \u001b[0mplt\u001b[0m\u001b[1;33m.\u001b[0m\u001b[0mplot\u001b[0m\u001b[1;33m(\u001b[0m\u001b[1;33m)\u001b[0m\u001b[1;33m\u001b[0m\u001b[1;33m\u001b[0m\u001b[0m\n\u001b[0;32m      5\u001b[0m \u001b[0mm\u001b[0m\u001b[1;33m,\u001b[0m \u001b[0mb\u001b[0m \u001b[1;33m=\u001b[0m \u001b[0mnp\u001b[0m\u001b[1;33m.\u001b[0m\u001b[0mpolyfit\u001b[0m\u001b[1;33m(\u001b[0m\u001b[0mx\u001b[0m\u001b[1;33m,\u001b[0m \u001b[0my\u001b[0m\u001b[1;33m,\u001b[0m \u001b[1;36m1\u001b[0m\u001b[1;33m)\u001b[0m\u001b[1;33m\u001b[0m\u001b[1;33m\u001b[0m\u001b[0m\n",
      "\u001b[1;31mNameError\u001b[0m: name 'quart_data' is not defined"
     ]
    }
   ],
   "source": [
    "x = quart_data['Quiz Performance']\n",
    "y = quart_data['Distance Z-score']\n",
    "quart_data.plot(x='Quiz Performance', y='Distance Z-score', kind='scatter')\n",
    "plt.plot()\n",
    "m, b = np.polyfit(x, y, 1)\n",
    "plt.plot(x, m*x+b, color='red')\n",
    "plt.xlabel('Total Points Earned / Maximum Points Possible')\n",
    "plt.ylabel('Average Z-score of Tree Edit Distance')\n",
    "plt.savefig('C:/Users/Elijah/Documents/GitHub/code-to-ast/data-analysis/graphs/py-full_vs_perf_quartile.png')"
   ]
  },
  {
   "cell_type": "code",
   "execution_count": 7,
   "id": "cbab3d17",
   "metadata": {
    "scrolled": true
   },
   "outputs": [
    {
     "data": {
      "text/plain": [
       "(-0.05036675940698827, 0.27026391429325236)"
      ]
     },
     "execution_count": 7,
     "metadata": {},
     "output_type": "execute_result"
    }
   ],
   "source": [
    "pearsonr(quart_data['Distance Z-score'], quart_data['Quiz Performance'])"
   ]
  },
  {
   "cell_type": "markdown",
   "id": "c9efecb2",
   "metadata": {},
   "source": [
    "### Pearson Correlation for 0-25 and 75-100 Quartile Student Data"
   ]
  },
  {
   "cell_type": "code",
   "execution_count": 2,
   "id": "c1d00b1c",
   "metadata": {},
   "outputs": [],
   "source": [
    "low_quart = pd.read_csv(\"0-25QuartileStudentData.csv\")\n",
    "high_quart = pd.read_csv(\"75-100QuartileStudentData.csv\")"
   ]
  },
  {
   "cell_type": "code",
   "execution_count": 3,
   "id": "d33bed42",
   "metadata": {
    "scrolled": true
   },
   "outputs": [
    {
     "data": {
      "image/png": "[encoded data removed]",
      "text/plain": [
       "<Figure size 432x288 with 1 Axes>"
      ]
     },
     "metadata": {
      "needs_background": "light"
     },
     "output_type": "display_data"
    }
   ],
   "source": [
    "x = low_quart['Quiz Performance']\n",
    "y = low_quart['Distance Z-score']\n",
    "low_quart.plot(x='Quiz Performance', y='Distance Z-score', kind='scatter')\n",
    "plt.plot()\n",
    "m, b = np.polyfit(x, y, 1)\n",
    "plt.plot(x, m*x+b, color='red')\n",
    "plt.xlabel('Total Points Earned / Maximum Points Possible')\n",
    "plt.ylabel('Average Z-score of Tree Edit Distance')\n",
    "plt.savefig('C:/Users/Elijah/Documents/GitHub/code-to-ast/data-analysis/graphs/0-25QuartilePearson.png')"
   ]
  },
  {
   "cell_type": "code",
   "execution_count": 5,
   "id": "8d63c7af",
   "metadata": {},
   "outputs": [
    {
     "data": {
      "text/plain": [
       "(0.001393813144517017, 0.9862222409427338)"
      ]
     },
     "execution_count": 5,
     "metadata": {},
     "output_type": "execute_result"
    }
   ],
   "source": [
    "pearsonr(low_quart['Distance Z-score'], low_quart['Quiz Performance'])"
   ]
  },
  {
   "cell_type": "code",
   "execution_count": 4,
   "id": "24805918",
   "metadata": {
    "scrolled": true
   },
   "outputs": [
    {
     "data": {
      "image/png": "[encoded data removed]",
      "text/plain": [
       "<Figure size 432x288 with 1 Axes>"
      ]
     },
     "metadata": {
      "needs_background": "light"
     },
     "output_type": "display_data"
    }
   ],
   "source": [
    "x = high_quart['Quiz Performance']\n",
    "y = high_quart['Distance Z-score']\n",
    "high_quart.plot(x='Quiz Performance', y='Distance Z-score', kind='scatter')\n",
    "plt.plot()\n",
    "m, b = np.polyfit(x, y, 1)\n",
    "plt.plot(x, m*x+b, color='red')\n",
    "plt.xlabel('Total Points Earned / Maximum Points Possible')\n",
    "plt.ylabel('Average Z-score of Tree Edit Distance')\n",
    "plt.savefig('C:/Users/Elijah/Documents/GitHub/code-to-ast/data-analysis/graphs/75-100QuartilePearson.png')"
   ]
  },
  {
   "cell_type": "code",
   "execution_count": 6,
   "id": "c0b2b118",
   "metadata": {},
   "outputs": [
    {
     "data": {
      "text/plain": [
       "(-0.11487944785440184, 0.05573125837781127)"
      ]
     },
     "execution_count": 6,
     "metadata": {},
     "output_type": "execute_result"
    }
   ],
   "source": [
    "pearsonr(high_quart['Distance Z-score'], high_quart['Quiz Performance'])"
   ]
  }
 ],
 "metadata": {
  "kernelspec": {
   "display_name": "Python 3",
   "language": "python",
   "name": "python3"
  },
  "language_info": {
   "codemirror_mode": {
    "name": "ipython",
    "version": 3
   },
   "file_extension": ".py",
   "mimetype": "text/x-python",
   "name": "python",
   "nbconvert_exporter": "python",
   "pygments_lexer": "ipython3",
   "version": "3.8.8"
  }
 },
 "nbformat": 4,
 "nbformat_minor": 5
}
